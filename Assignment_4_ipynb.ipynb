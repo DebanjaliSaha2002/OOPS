{
  "nbformat": 4,
  "nbformat_minor": 0,
  "metadata": {
    "colab": {
      "provenance": []
    },
    "kernelspec": {
      "name": "python3",
      "display_name": "Python 3"
    },
    "language_info": {
      "name": "python"
    }
  },
  "cells": [
    {
      "cell_type": "code",
      "execution_count": null,
      "metadata": {
        "id": "oj-RpygacaZY"
      },
      "outputs": [],
      "source": [
        "# 1.What is Object-Oriented Programming (OOP)?"
      ]
    },
    {
      "cell_type": "markdown",
      "source": [
        "Ans- Object-Oriented Programming (OOP) is a programming paradigm based on the concept of \"objects,\" which are instances of classes. These objects contain data (fields or attributes) and methods (functions) that operate on the data."
      ],
      "metadata": {
        "id": "NixEhGrTd4ts"
      }
    },
    {
      "cell_type": "code",
      "source": [
        "#  2.What is a class in OOP?"
      ],
      "metadata": {
        "id": "PGWO4AKad7Sb"
      },
      "execution_count": null,
      "outputs": []
    },
    {
      "cell_type": "markdown",
      "source": [
        "Ans- A class in Object-Oriented Programming (OOP) is a blueprint or template for creating objects. It defines the structure and behavior (data and functions) that the objects created from the class will have."
      ],
      "metadata": {
        "id": "YTyApbnChJlx"
      }
    },
    {
      "cell_type": "code",
      "source": [
        "# 3.What is an object in OOP?"
      ],
      "metadata": {
        "id": "QU--dMgchLTb"
      },
      "execution_count": null,
      "outputs": []
    },
    {
      "cell_type": "markdown",
      "source": [
        "Ans- An object in Object-Oriented Programming (OOP) is an instance of a class. It represents a specific entity that combines data (attributes) and behavior (methods) defined by its class."
      ],
      "metadata": {
        "id": "nGkQgTxmhULB"
      }
    },
    {
      "cell_type": "code",
      "source": [
        "# 4.What is the difference between abstraction and encapsulation?"
      ],
      "metadata": {
        "id": "Vs034qjrhVde"
      },
      "execution_count": null,
      "outputs": []
    },
    {
      "cell_type": "markdown",
      "source": [
        "Ans- Abstraction and encapsulation are both fundamental concepts in Object-Oriented Programming (OOP), but they serve different purposes:\n",
        "1. Abstraction\n",
        "\n",
        "Definition:\n",
        "Abstraction is the process of hiding complex implementation details and showing only the essential features of an object.\n",
        "\n",
        "Purpose:\n",
        "To reduce complexity and allow the programmer to focus on interactions at a higher level.\n",
        "\n",
        "Example:\n",
        "When you use a car, you only need to know how to drive it (start, stop, steer) without needing to understand how the engine works.\n",
        "\n",
        "2. Encapsulation\n",
        "Definition:\n",
        "Encapsulation is the practice of bundling data (attributes) and methods that operate on that data within a class, and restricting direct access to some of the object’s components.\n",
        "\n",
        "Purpose:\n",
        "To protect the internal state of an object and prevent unauthorized or unintended changes.\n",
        "\n",
        "Example:\n",
        "A car's speed may be controlled only through methods (like accelerate), not by changing speed directly."
      ],
      "metadata": {
        "id": "_DQ71WaAhb_1"
      }
    },
    {
      "cell_type": "code",
      "source": [
        "# 5.What are dunder methods in Python?"
      ],
      "metadata": {
        "id": "lxAZd7HbhoVs"
      },
      "execution_count": null,
      "outputs": []
    },
    {
      "cell_type": "markdown",
      "source": [
        "Ans- Dunder methods (short for \"double underscore\" methods) in Python are special methods that have double underscores at the beginning and end of their names (e.g., _init, __str, __len_). They are also known as magic methods."
      ],
      "metadata": {
        "id": "88VZfHXShsr7"
      }
    },
    {
      "cell_type": "code",
      "source": [
        "# 6.Explain the concept of inheritance in OOP."
      ],
      "metadata": {
        "id": "dvbmKkIJhwFw"
      },
      "execution_count": null,
      "outputs": []
    },
    {
      "cell_type": "markdown",
      "source": [
        "Ans- Inheritance in OOP is a mechanism that allows one class (child/subclass) to inherit properties and behaviors (attributes and methods) from another class (parent/superclass)"
      ],
      "metadata": {
        "id": "e3dS_ABuh1ub"
      }
    },
    {
      "cell_type": "code",
      "source": [
        "# 7.What is polymorphism in OOP?"
      ],
      "metadata": {
        "id": "BfBNJvf2h4un"
      },
      "execution_count": null,
      "outputs": []
    },
    {
      "cell_type": "markdown",
      "source": [
        "Ans- Polymorphism in Object-Oriented Programming (OOP) means the ability of different objects to respond to the same method call in different ways."
      ],
      "metadata": {
        "id": "4AF3gOmKh8gq"
      }
    },
    {
      "cell_type": "code",
      "source": [
        "# 8.How is encapsulation achieved in Python?"
      ],
      "metadata": {
        "id": "9e9eBO3hiCjM"
      },
      "execution_count": null,
      "outputs": []
    },
    {
      "cell_type": "markdown",
      "source": [
        "Ans- Encapsulation in Python is achieved by restricting access to certain parts of an object using access modifiers and by bundling data and methods that operate on that data within a class."
      ],
      "metadata": {
        "id": "7saS7VmPiHjT"
      }
    },
    {
      "cell_type": "code",
      "source": [
        "# 9.What is a constructor in Python?"
      ],
      "metadata": {
        "id": "ULx4oWVBiMc4"
      },
      "execution_count": null,
      "outputs": []
    },
    {
      "cell_type": "markdown",
      "source": [
        "Ans- A constructor in Python is a special method called _init_ that is automatically executed when a new object is created from a class. It is used to initialize the object’s attributes."
      ],
      "metadata": {
        "id": "F5lMUjTpiPcD"
      }
    },
    {
      "cell_type": "code",
      "source": [
        "# 10.What are class and static methods in Python?"
      ],
      "metadata": {
        "id": "ZeZN0cDJiSFQ"
      },
      "execution_count": null,
      "outputs": []
    },
    {
      "cell_type": "markdown",
      "source": [
        "Ans- Class Methods\n",
        "1.Defined with the decorator @classmethod.\n",
        "2.The first parameter is cls, which refers to the class itself, not the instance.\n",
        "3.Can access or modify class state that applies across all instances.\n",
        "4.Often used for factory methods or methods that affect the class as a whole.\n",
        " Static Methods-\n",
        "1.Defined with the decorator @staticmethod.\n",
        "2.No automatic first parameter (self or cls).\n",
        "3.Behaves like a regular function inside a class namespace.\n",
        "4.Cannot access or modify class or instance state."
      ],
      "metadata": {
        "id": "zFcU_qFpigI1"
      }
    },
    {
      "cell_type": "code",
      "source": [
        "# 11.What is method overloading in Python?"
      ],
      "metadata": {
        "id": "vECYpdaEilZ1"
      },
      "execution_count": null,
      "outputs": []
    },
    {
      "cell_type": "markdown",
      "source": [
        "Ans- Method overloading is the ability to define multiple methods with the same name but different parameters (number or type) in the same class."
      ],
      "metadata": {
        "id": "KUgdpLApiqEc"
      }
    },
    {
      "cell_type": "code",
      "source": [
        "# 12.What is method overriding in OOP?"
      ],
      "metadata": {
        "id": "V0CAQ3AHi_Xs"
      },
      "execution_count": null,
      "outputs": []
    },
    {
      "cell_type": "markdown",
      "source": [
        "Ans- Method overriding in OOP occurs when a subclass provides its own version of a method that is already defined in its parent class. The subclass’s method replaces the parent’s method when called on an instance of the subclass."
      ],
      "metadata": {
        "id": "f9TmzzAejZ9G"
      }
    },
    {
      "cell_type": "code",
      "source": [
        "# 13.What is a property decorator in Python?"
      ],
      "metadata": {
        "id": "jmxF6jMEjeXx"
      },
      "execution_count": null,
      "outputs": []
    },
    {
      "cell_type": "markdown",
      "source": [
        "Ans- The property decorator in Python is used to define a method that can be accessed like an attribute. It allows you to create managed attributes without changing the external interface of the class."
      ],
      "metadata": {
        "id": "qDxcXNzZnJVM"
      }
    },
    {
      "cell_type": "code",
      "source": [
        "# 14.Why is polymorphism important in OOP?"
      ],
      "metadata": {
        "id": "h8BUtuOanOX_"
      },
      "execution_count": null,
      "outputs": []
    },
    {
      "cell_type": "markdown",
      "source": [
        "Ans- Polymorphism is important in OOP because it allows different objects to be treated through a common interface, enabling code to be more flexible, reusable, and easier to extend."
      ],
      "metadata": {
        "id": "9rCIxj4BnRN1"
      }
    },
    {
      "cell_type": "code",
      "source": [
        "# 15.What is an abstract class in Python?"
      ],
      "metadata": {
        "id": "8tgExwhCnVYW"
      },
      "execution_count": null,
      "outputs": []
    },
    {
      "cell_type": "markdown",
      "source": [
        "Ans- An abstract class in Python is a class that cannot be instantiated directly and is meant to be a base class for other classes. It can define abstract methods—methods that have no implementation and must be overridden by subclasses."
      ],
      "metadata": {
        "id": "JMW1TAwVnYhY"
      }
    },
    {
      "cell_type": "code",
      "source": [
        "# 16.What are the advantages of OOP?"
      ],
      "metadata": {
        "id": "pqnyH2jkna_T"
      },
      "execution_count": null,
      "outputs": []
    },
    {
      "cell_type": "markdown",
      "source": [
        "Ans- 1. Modularity\n",
        "\n",
        "Code is organized into classes and objects, making it easier to manage and understand.\n",
        "\n",
        "\n",
        "2. Reusability\n",
        "\n",
        "Classes can be reused across programs.\n",
        "\n",
        "Inheritance allows new classes to build on existing ones.\n",
        "\n",
        "\n",
        "3. Scalability and Maintainability\n",
        "\n",
        "Code is easier to update, extend, and debug due to clear structure and separation.\n",
        "\n",
        "\n",
        "4. Encapsulation\n",
        "\n",
        "Hides internal details, protecting data and reducing complexity."
      ],
      "metadata": {
        "id": "QXdFhiKKneb2"
      }
    },
    {
      "cell_type": "code",
      "source": [
        "# 17.What is the difference between a class variable and an instance variable?"
      ],
      "metadata": {
        "id": "cDeNGBe4njPZ"
      },
      "execution_count": null,
      "outputs": []
    },
    {
      "cell_type": "markdown",
      "source": [
        "Ans- Class variable is shared by all instances of a class, while an instance variable is unique to each object."
      ],
      "metadata": {
        "id": "eQTYr7ZtnnjE"
      }
    },
    {
      "cell_type": "code",
      "source": [
        "# 18.What is multiple inheritance in Python?"
      ],
      "metadata": {
        "id": "sKh564sQnqKD"
      },
      "execution_count": null,
      "outputs": []
    },
    {
      "cell_type": "markdown",
      "source": [
        "Ans- Multiple inheritance in Python means that a class can inherit from more than one parent class."
      ],
      "metadata": {
        "id": "rbuaz1F6ntxO"
      }
    },
    {
      "cell_type": "code",
      "source": [
        "# 19.Explain the purpose of \"str\" and \"repr\" methods in Python."
      ],
      "metadata": {
        "id": "jvXSCNJEnweT"
      },
      "execution_count": null,
      "outputs": []
    },
    {
      "cell_type": "markdown",
      "source": [
        "Ans- The _str_ and _repr_ methods in Python are special (dunder) methods used to define how an object is represented as a string.\n",
        "   _str_\n",
        "\n",
        "Used by print() and str()\n",
        "\n",
        "Meant for human-readable representation\n",
        "\n",
        "Should return a user-friendly string\n",
        "\n",
        "\n",
        "Example:\n",
        "\n",
        "class Person:\n",
        "    def _str_(self):\n",
        "        return \"This is a Person object\"\n",
        "\n",
        "\n",
        "---\n",
        "\n",
        "_repr_\n",
        "\n",
        "Used by repr() or when inspecting objects in a console\n",
        "\n",
        "Meant for developer/debugging purposes\n",
        "\n",
        "Should return a precise and unambiguous string, ideally valid Python code\n",
        "\n",
        "\n",
        "Example:\n",
        "\n",
        "class Person:\n",
        "    def _repr_(self):\n",
        "        return \"Person(name='debanjali', age=22)\""
      ],
      "metadata": {
        "id": "ontImClZnzus"
      }
    },
    {
      "cell_type": "code",
      "source": [
        "# 20.What is the significance of the 'super()' function in Python?"
      ],
      "metadata": {
        "id": "9c5xl9KJn959"
      },
      "execution_count": null,
      "outputs": []
    },
    {
      "cell_type": "markdown",
      "source": [
        "Ans- The super() function in Python is used to call methods from a parent (super) class in a subclass.\n",
        "\n",
        "Purpose:\n",
        "\n",
        "To reuse parent class code without hardcoding the parent class name.\n",
        "\n",
        "Supports multiple inheritance by ensuring the correct method resolution order (MRO)."
      ],
      "metadata": {
        "id": "vJvWHkIpoBkt"
      }
    },
    {
      "cell_type": "code",
      "source": [
        "# 21.What is the significance of the del method in Python?"
      ],
      "metadata": {
        "id": "CDjiQoMUoGVJ"
      },
      "execution_count": null,
      "outputs": []
    },
    {
      "cell_type": "markdown",
      "source": [
        "Ans- The _del_ method in Python is a destructor. It is called automatically when an object is about to be destroyed, typically when it goes out of scope or is deleted using del"
      ],
      "metadata": {
        "id": "7FVeVDQpoKia"
      }
    },
    {
      "cell_type": "code",
      "source": [
        "# 22.What is the difference between @staticmethod and @classmethod in Python?"
      ],
      "metadata": {
        "id": "eWKv4aHWoQ5O"
      },
      "execution_count": null,
      "outputs": []
    },
    {
      "cell_type": "markdown",
      "source": [
        "Ans-staticmethod:\n",
        "\n",
        "1.Does not take self or cls.\n",
        "\n",
        "2.Acts like a regular function inside a class.\n",
        "\n",
        "3.Can’t access or modify class or instance data.\n",
        "\n",
        "\n",
        "@classmethod:\n",
        "\n",
        "1.Takes cls as the first parameter.\n",
        "\n",
        "2.Can access and modify class variables.\n",
        "\n",
        "3.Useful for factory methods."
      ],
      "metadata": {
        "id": "cCFvdVEEoVul"
      }
    },
    {
      "cell_type": "code",
      "source": [
        "# 23.How does polymorphism work in Python with inheritance?"
      ],
      "metadata": {
        "id": "PW9lh5Ouol8w"
      },
      "execution_count": null,
      "outputs": []
    },
    {
      "cell_type": "markdown",
      "source": [
        "Ans- Polymorphism with inheritance in Python works by allowing a child class to override methods of its parent class, and enabling the same method call to behave differently depending on the object's class."
      ],
      "metadata": {
        "id": "3avmoqkWo2ZG"
      }
    },
    {
      "cell_type": "code",
      "source": [
        "# 24.What is method chaining in Python OOP?"
      ],
      "metadata": {
        "id": "6STdb0lJo5Q4"
      },
      "execution_count": null,
      "outputs": []
    },
    {
      "cell_type": "markdown",
      "source": [
        "Ans- Method chaining in Python OOP is a technique where multiple methods are called on the same object in a single line, one after another."
      ],
      "metadata": {
        "id": "LCkuuYP5o-4n"
      }
    },
    {
      "cell_type": "code",
      "source": [
        "# 25.What is the purpose of the call method in Python?"
      ],
      "metadata": {
        "id": "VvbCkZJXpDXF"
      },
      "execution_count": null,
      "outputs": []
    },
    {
      "cell_type": "markdown",
      "source": [
        "Ans- The _call_ method in Python allows an object to be called like a function.\n",
        "\n",
        "Purpose:\n",
        "\n",
        "To make instances of a class behave like functions.\n",
        "\n",
        "Adds flexibility to object behavior."
      ],
      "metadata": {
        "id": "niTfJ7E9pHCt"
      }
    },
    {
      "cell_type": "markdown",
      "source": [
        "**PRACTICAL**"
      ],
      "metadata": {
        "id": "0KzWbsi3pNnV"
      }
    },
    {
      "cell_type": "code",
      "source": [
        "# 1.Create a parent class Animal with a method speak() that prints a generic message. Create a child class Dog that overrides the speak() method to print \"Bark!\"."
      ],
      "metadata": {
        "id": "eGAaTRrVpWW7"
      },
      "execution_count": null,
      "outputs": []
    },
    {
      "cell_type": "code",
      "source": [
        "class Animal:\n",
        "    def speak(self):\n",
        "        print(\"This animal makes a sound.\")\n",
        "\n",
        "class Dog(Animal):\n",
        "    def speak(self):\n",
        "        print(\"Bark!\")\n",
        "animal = Animal()\n",
        "animal.speak()\n",
        "\n",
        "dog = Dog()\n",
        "dog.speak()"
      ],
      "metadata": {
        "colab": {
          "base_uri": "https://localhost:8080/"
        },
        "id": "76-bCi4PrFGC",
        "outputId": "f58b10e4-d71c-431c-e8ce-c60b8105ca4c"
      },
      "execution_count": 1,
      "outputs": [
        {
          "output_type": "stream",
          "name": "stdout",
          "text": [
            "This animal makes a sound.\n",
            "Bark!\n"
          ]
        }
      ]
    },
    {
      "cell_type": "code",
      "source": [
        "# 2.Write a program to create an abstract class Shape with a method area(). Derive classes Circle and Rectangle from it and implement the area() method in both."
      ],
      "metadata": {
        "id": "Jc2Y2XRvrX82"
      },
      "execution_count": null,
      "outputs": []
    },
    {
      "cell_type": "code",
      "source": [
        "from abc import ABC, abstractmethod\n",
        "import math\n",
        "\n",
        "# Abstract base class\n",
        "class Shape(ABC):\n",
        "    @abstractmethod\n",
        "    def area(self):\n",
        "        pass\n",
        "\n",
        "# Circle class\n",
        "class Circle(Shape):\n",
        "    def _init_(self, radius):\n",
        "        self.radius = radius\n",
        "\n",
        "    def area(self):\n",
        "        return math.pi * self.radius ** 2\n",
        "\n",
        "# Rectangle class\n",
        "class Rectangle(Shape):\n",
        "    def _init_(self, width, height):\n",
        "        self.width = width\n",
        "        self.height = height\n",
        "\n",
        "    def area(self):\n",
        "        return self.width * self.height\n",
        "\n",
        "# Example usage\n",
        "circle = Circle(5)\n",
        "rectangle = Rectangle(4, 6)\n",
        "\n",
        "print(\"Circle Area:\", circle.area())\n",
        "print(\"Rectangle Area:\", rectangle.area())"
      ],
      "metadata": {
        "colab": {
          "base_uri": "https://localhost:8080/",
          "height": 218
        },
        "id": "90F3nOKprgom",
        "outputId": "babf82cf-2c19-4335-c734-f63e250a9642"
      },
      "execution_count": 7,
      "outputs": [
        {
          "output_type": "error",
          "ename": "TypeError",
          "evalue": "Circle() takes no arguments",
          "traceback": [
            "\u001b[0;31m---------------------------------------------------------------------------\u001b[0m",
            "\u001b[0;31mTypeError\u001b[0m                                 Traceback (most recent call last)",
            "\u001b[0;32m<ipython-input-7-93eeb7dcac30>\u001b[0m in \u001b[0;36m<cell line: 0>\u001b[0;34m()\u001b[0m\n\u001b[1;32m     26\u001b[0m \u001b[0;34m\u001b[0m\u001b[0m\n\u001b[1;32m     27\u001b[0m \u001b[0;31m# Example usage\u001b[0m\u001b[0;34m\u001b[0m\u001b[0;34m\u001b[0m\u001b[0m\n\u001b[0;32m---> 28\u001b[0;31m \u001b[0mcircle\u001b[0m \u001b[0;34m=\u001b[0m \u001b[0mCircle\u001b[0m\u001b[0;34m(\u001b[0m\u001b[0;36m5\u001b[0m\u001b[0;34m)\u001b[0m\u001b[0;34m\u001b[0m\u001b[0;34m\u001b[0m\u001b[0m\n\u001b[0m\u001b[1;32m     29\u001b[0m \u001b[0mrectangle\u001b[0m \u001b[0;34m=\u001b[0m \u001b[0mRectangle\u001b[0m\u001b[0;34m(\u001b[0m\u001b[0;36m4\u001b[0m\u001b[0;34m,\u001b[0m \u001b[0;36m6\u001b[0m\u001b[0;34m)\u001b[0m\u001b[0;34m\u001b[0m\u001b[0;34m\u001b[0m\u001b[0m\n\u001b[1;32m     30\u001b[0m \u001b[0;34m\u001b[0m\u001b[0m\n",
            "\u001b[0;31mTypeError\u001b[0m: Circle() takes no arguments"
          ]
        }
      ]
    },
    {
      "cell_type": "code",
      "source": [
        "# 3.Implement a multi-level inheritance scenario where a class Vehicle has an attribute type. Derive a class Car and further derive a class ElectricCar that adds a battery attribute."
      ],
      "metadata": {
        "id": "LE87zYFwsQ2q"
      },
      "execution_count": null,
      "outputs": []
    },
    {
      "cell_type": "code",
      "source": [
        "# Base class\n",
        "class Vehicle:\n",
        "    def __init__(self, vehicle_type):\n",
        "        self.vehicle_type = vehicle_type\n",
        "\n",
        "# Derived class from Vehicle\n",
        "class Car(Vehicle):\n",
        "    def __init__(self, vehicle_type, brand):\n",
        "        super().__init__(vehicle_type)\n",
        "        self.brand = brand\n",
        "\n",
        "# Further derived class from Car\n",
        "class ElectricCar(Car):\n",
        "    def __init__(self, vehicle_type, brand, battery_capacity):\n",
        "        super().__init__(vehicle_type, brand)\n",
        "        self.battery_capacity = battery_capacity\n",
        "\n",
        "    def display_info(self):\n",
        "        print(f\"Type: {self.vehicle_type}\")\n",
        "        print(f\"Brand: {self.brand}\")\n",
        "        print(f\"Battery: {self.battery_capacity} kWh\")\n",
        "\n",
        "# Example usage\n",
        "tesla = ElectricCar(\"Electric\", \"Tesla\", 75)\n",
        "tesla.display_info()"
      ],
      "metadata": {
        "colab": {
          "base_uri": "https://localhost:8080/"
        },
        "id": "QwMzv3uDsiLo",
        "outputId": "68108756-9dfe-46ae-e949-659760fb2c56"
      },
      "execution_count": 8,
      "outputs": [
        {
          "output_type": "stream",
          "name": "stdout",
          "text": [
            "Type: Electric\n",
            "Brand: Tesla\n",
            "Battery: 75 kWh\n"
          ]
        }
      ]
    },
    {
      "cell_type": "code",
      "source": [
        "# 4.Demonstrate polymorphism by creating a base class Bird with a method fly(). Create two derived classes Sparrow and Penguin that override the fly() method."
      ],
      "metadata": {
        "id": "1bXpodWts3z-"
      },
      "execution_count": null,
      "outputs": []
    },
    {
      "cell_type": "code",
      "source": [
        "# Base class\n",
        "class Bird:\n",
        "    def fly(self):\n",
        "        print(\"Some birds can fly.\")\n",
        "\n",
        "# Derived class\n",
        "class Sparrow(Bird):\n",
        "    def fly(self):\n",
        "        print(\"Sparrow flies high in the sky.\")\n",
        "\n",
        "# Derived class\n",
        "class Penguin(Bird):\n",
        "    def fly(self):\n",
        "        print(\"Penguins can't fly, they swim instead.\")\n",
        "\n",
        "# Polymorphism in action\n",
        "def show_flight(bird):\n",
        "    bird.fly()\n",
        "\n",
        "# Example usage\n",
        "bird1 = Sparrow()\n",
        "bird2 = Penguin()\n",
        "\n",
        "show_flight(bird1)\n",
        "show_flight(bird2)"
      ],
      "metadata": {
        "colab": {
          "base_uri": "https://localhost:8080/"
        },
        "id": "faAhxQEPtFZ0",
        "outputId": "141bbcaf-6d68-483f-876f-ca7e839005b5"
      },
      "execution_count": 10,
      "outputs": [
        {
          "output_type": "stream",
          "name": "stdout",
          "text": [
            "Sparrow flies high in the sky.\n",
            "Penguins can't fly, they swim instead.\n"
          ]
        }
      ]
    },
    {
      "cell_type": "code",
      "source": [
        "# 5.Write a program to demonstrate encapsulation by creating a class BankAccount with private attributes balance and methods to deposit, withdraw, and check balance."
      ],
      "metadata": {
        "id": "97I49ef8tyX3"
      },
      "execution_count": null,
      "outputs": []
    },
    {
      "cell_type": "code",
      "source": [
        "class BankAccount:\n",
        "    def __init__(self, initial_balance=0):\n",
        "        self.__balance = initial_balance  # Private attribute\n",
        "\n",
        "    def deposit(self, amount):\n",
        "        if amount > 0:\n",
        "            self.__balance += amount\n",
        "            print(f\"Deposited: ${amount}\")\n",
        "        else:\n",
        "            print(\"Deposit amount must be positive.\")\n",
        "\n",
        "    def withdraw(self, amount):\n",
        "        if 0 < amount <= self.__balance:\n",
        "            self.__balance -= amount\n",
        "            print(f\"Withdrew: ${amount}\")\n",
        "        else:\n",
        "            print(\"Insufficient balance or invalid amount.\")\n",
        "\n",
        "    def check_balance(self):\n",
        "        print(f\"Current balance: ${self.__balance}\")\n",
        "\n",
        "# Example usage\n",
        "account = BankAccount(100)\n",
        "account.check_balance()\n",
        "account.deposit(50)\n",
        "account.withdraw(30)\n",
        "account.check_balance()"
      ],
      "metadata": {
        "colab": {
          "base_uri": "https://localhost:8080/"
        },
        "id": "JZJ57o87t0Ba",
        "outputId": "08573692-466a-4d10-d83b-fc4597859d5c"
      },
      "execution_count": 11,
      "outputs": [
        {
          "output_type": "stream",
          "name": "stdout",
          "text": [
            "Current balance: $100\n",
            "Deposited: $50\n",
            "Withdrew: $30\n",
            "Current balance: $120\n"
          ]
        }
      ]
    },
    {
      "cell_type": "code",
      "source": [
        "# 6.Demonstrate runtime polymorphism using a method play() in a base class Instrument. Derive classes Guitar and Piano that implement their own version of play()."
      ],
      "metadata": {
        "id": "-vE7sVBkuUGM"
      },
      "execution_count": null,
      "outputs": []
    },
    {
      "cell_type": "code",
      "source": [
        "# Base class\n",
        "class Instrument:\n",
        "    def play(self):\n",
        "        print(\"Playing an instrument.\")\n",
        "\n",
        "# Derived class\n",
        "class Guitar(Instrument):\n",
        "    def play(self):\n",
        "        print(\"Strumming the guitar.\")\n",
        "\n",
        "# Derived class\n",
        "class Piano(Instrument):\n",
        "    def play(self):\n",
        "        print(\"Playing the piano keys.\")\n",
        "\n",
        "# Function demonstrating runtime polymorphism\n",
        "def perform(instrument):\n",
        "    instrument.play()\n",
        "\n",
        "# Example usage\n",
        "guitar = Guitar()\n",
        "piano = Piano()\n",
        "\n",
        "perform(guitar)\n",
        "perform(piano)"
      ],
      "metadata": {
        "colab": {
          "base_uri": "https://localhost:8080/"
        },
        "id": "vxveqyfqudwn",
        "outputId": "80fad4a4-df65-451b-9255-d02c2bc6d7db"
      },
      "execution_count": 12,
      "outputs": [
        {
          "output_type": "stream",
          "name": "stdout",
          "text": [
            "Strumming the guitar.\n",
            "Playing the piano keys.\n"
          ]
        }
      ]
    },
    {
      "cell_type": "code",
      "source": [
        "# 7.Create a class MathOperations with a class method add_numbers() to add two numbers and a static method subtract_numbers() to subtract two numbers."
      ],
      "metadata": {
        "id": "HXUUBAG2uv_s"
      },
      "execution_count": null,
      "outputs": []
    },
    {
      "cell_type": "code",
      "source": [
        "class MathOperations:\n",
        "    @classmethod\n",
        "    def add_numbers(cls, a, b):\n",
        "        return a + b\n",
        "\n",
        "    @staticmethod\n",
        "    def subtract_numbers(a, b):\n",
        "        return a - b\n",
        "\n",
        "# Example usage\n",
        "sum_result = MathOperations.add_numbers(10, 5)\n",
        "diff_result = MathOperations.subtract_numbers(10, 5)\n",
        "\n",
        "print(\"Sum:\", sum_result)\n",
        "print(\"Difference:\", diff_result)"
      ],
      "metadata": {
        "colab": {
          "base_uri": "https://localhost:8080/"
        },
        "id": "bgFMjaGvu2jM",
        "outputId": "66aea303-c371-4288-9583-58e20d36a33f"
      },
      "execution_count": 13,
      "outputs": [
        {
          "output_type": "stream",
          "name": "stdout",
          "text": [
            "Sum: 15\n",
            "Difference: 5\n"
          ]
        }
      ]
    },
    {
      "cell_type": "code",
      "source": [
        "# 8.Implement a class Person with a class method to count the total number of persons created."
      ],
      "metadata": {
        "id": "GRfR0IijvJm_"
      },
      "execution_count": null,
      "outputs": []
    },
    {
      "cell_type": "code",
      "source": [
        "class Person:\n",
        "    count = 0  # Class variable to track number of persons\n",
        "\n",
        "    def __init__(self, name):\n",
        "        self.name = name\n",
        "        Person.count += 1\n",
        "\n",
        "    @classmethod\n",
        "    def total_persons(cls):\n",
        "        return cls.count\n",
        "\n",
        "# Example usage\n",
        "p1 = Person(\"Alice\")\n",
        "p2 = Person(\"Bob\")\n",
        "p3 = Person(\"Charlie\")\n",
        "\n",
        "print(\"Total persons created:\", Person.total_persons())"
      ],
      "metadata": {
        "colab": {
          "base_uri": "https://localhost:8080/"
        },
        "id": "aAAINgPFvbak",
        "outputId": "eb366f8e-ceee-4868-aaa7-cf990c4c3db3"
      },
      "execution_count": 14,
      "outputs": [
        {
          "output_type": "stream",
          "name": "stdout",
          "text": [
            "Total persons created: 3\n"
          ]
        }
      ]
    },
    {
      "cell_type": "code",
      "source": [
        "# 9.Write a class Fraction with attributes numerator and denominator. Override the str method to display the fraction as \"numerator/denominator\"."
      ],
      "metadata": {
        "id": "BkTYlLvKvkIO"
      },
      "execution_count": null,
      "outputs": []
    },
    {
      "cell_type": "code",
      "source": [
        "class Fraction:\n",
        "    def __init__(self, numerator, denominator):\n",
        "        self.numerator = numerator\n",
        "        self.denominator = denominator\n",
        "\n",
        "    def __str__(self):\n",
        "        return f\"{self.numerator}/{self.denominator}\"\n",
        "\n",
        "# Example usage\n",
        "f = Fraction(3, 4)\n",
        "print(f)"
      ],
      "metadata": {
        "colab": {
          "base_uri": "https://localhost:8080/"
        },
        "id": "FkQyauLDvs15",
        "outputId": "8418e49f-df7e-4aa6-b38f-afb1d6281839"
      },
      "execution_count": 15,
      "outputs": [
        {
          "output_type": "stream",
          "name": "stdout",
          "text": [
            "3/4\n"
          ]
        }
      ]
    },
    {
      "cell_type": "code",
      "source": [
        "# 10.Demonstrate operator overloading by creating a class Vector and overriding the add method to add two vectors."
      ],
      "metadata": {
        "id": "mjrL0kRWvzJ-"
      },
      "execution_count": null,
      "outputs": []
    },
    {
      "cell_type": "code",
      "source": [
        "class Vector:\n",
        "    def __init__(self, x, y):\n",
        "        self.x = x\n",
        "        self.y = y\n",
        "\n",
        "    def __add__(self, other):\n",
        "        return Vector(self.x + other.x, self.y + other.y)\n",
        "\n",
        "    def __str__(self):\n",
        "        return f\"Vector({self.x}, {self.y})\"\n",
        "\n",
        "# Example usage\n",
        "v1 = Vector(2, 3)\n",
        "v2 = Vector(4, 1)\n",
        "v3 = v1 + v2  # Uses overloaded + operator\n",
        "\n",
        "print(v3)"
      ],
      "metadata": {
        "colab": {
          "base_uri": "https://localhost:8080/"
        },
        "id": "aiCKtH7Nv7Nf",
        "outputId": "e87ec7a8-397d-493f-8473-0fba70a2090b"
      },
      "execution_count": 16,
      "outputs": [
        {
          "output_type": "stream",
          "name": "stdout",
          "text": [
            "Vector(6, 4)\n"
          ]
        }
      ]
    },
    {
      "cell_type": "code",
      "source": [
        "# 11.Create a class Person with attributes name and age. Add a method greet() that prints \"Hello, my name is {name} and I am {age} years old.\""
      ],
      "metadata": {
        "id": "sv4ck9C4v7dV"
      },
      "execution_count": null,
      "outputs": []
    },
    {
      "cell_type": "code",
      "source": [
        "class Person:\n",
        "    def __init__(self, name, age):\n",
        "        self.name = name\n",
        "        self.age = age\n",
        "\n",
        "    def greet(self):\n",
        "        print(f\"Hello, my name is {self.name} and I am {self.age} years old.\")\n",
        "\n",
        "# Example usage\n",
        "person = Person(\"Debanjali\", 22)\n",
        "person.greet()"
      ],
      "metadata": {
        "colab": {
          "base_uri": "https://localhost:8080/"
        },
        "id": "8UaMzgUNwKNE",
        "outputId": "7dfffcb5-54b4-4395-e3d1-fe42c8421f28"
      },
      "execution_count": 18,
      "outputs": [
        {
          "output_type": "stream",
          "name": "stdout",
          "text": [
            "Hello, my name is Debanjali and I am 22 years old.\n"
          ]
        }
      ]
    },
    {
      "cell_type": "code",
      "source": [
        "# 12.Implement a class Student with attributes name and grades. Create a method average_grade() to compute the average of the grades."
      ],
      "metadata": {
        "id": "lhsXqxrKwKbO"
      },
      "execution_count": null,
      "outputs": []
    },
    {
      "cell_type": "code",
      "source": [
        "class Student:\n",
        "    def __init__(self, name, grades):\n",
        "        self.name = name\n",
        "        self.grades = grades  # grades should be a list of numbers\n",
        "\n",
        "    def average_grade(self):\n",
        "        if not self.grades:\n",
        "            return 0\n",
        "        return sum(self.grades) / len(self.grades)\n",
        "\n",
        "# Example usage\n",
        "student = Student(\"Debanjali\", [85, 90, 78, 92])\n",
        "print(f\"{student.name}'s average grade is {student.average_grade():.2f}\")"
      ],
      "metadata": {
        "colab": {
          "base_uri": "https://localhost:8080/"
        },
        "id": "DkB8wvZWwkRS",
        "outputId": "70d57122-d270-4ac2-ddf6-ead67ea64dbc"
      },
      "execution_count": 20,
      "outputs": [
        {
          "output_type": "stream",
          "name": "stdout",
          "text": [
            "Debanjali's average grade is 86.25\n"
          ]
        }
      ]
    },
    {
      "cell_type": "code",
      "source": [
        "# 13.Create a class Rectangle with methods set_dimensions() to set the dimensions and area() to calculate the area."
      ],
      "metadata": {
        "id": "Dy_x1Bfjwx_D"
      },
      "execution_count": null,
      "outputs": []
    },
    {
      "cell_type": "code",
      "source": [
        "class Rectangle:\n",
        "    def __init__(self):\n",
        "        self.length = 0\n",
        "        self.width = 0\n",
        "\n",
        "    def set_dimensions(self, length, width):\n",
        "        self.length = length\n",
        "        self.width = width\n",
        "\n",
        "    def area(self):\n",
        "        return self.length * self.width\n",
        "\n",
        "# Example usage\n",
        "rect = Rectangle()\n",
        "rect.set_dimensions(5, 3)\n",
        "print(\"Area:\", rect.area())"
      ],
      "metadata": {
        "colab": {
          "base_uri": "https://localhost:8080/"
        },
        "id": "uflfyjAVw5xY",
        "outputId": "447f712a-7f8d-4b85-d6aa-5230434cb2f5"
      },
      "execution_count": 21,
      "outputs": [
        {
          "output_type": "stream",
          "name": "stdout",
          "text": [
            "Area: 15\n"
          ]
        }
      ]
    },
    {
      "cell_type": "code",
      "source": [
        "# 14.Create a class Employee with a method calculate_salary() that computes the salary based on hours worked and hourly rate. Create a derived class Manager that adds a bonus to the salary."
      ],
      "metadata": {
        "id": "783i0ckcw6SE"
      },
      "execution_count": null,
      "outputs": []
    },
    {
      "cell_type": "code",
      "source": [
        "class Employee:\n",
        "    def __init__(self, name, hours_worked, hourly_rate):\n",
        "        self.name = name\n",
        "        self.hours_worked = hours_worked\n",
        "        self.hourly_rate = hourly_rate\n",
        "\n",
        "    def calculate_salary(self):\n",
        "        return self.hours_worked * self.hourly_rate\n",
        "\n",
        "class Manager(Employee):\n",
        "    def __init__(self, name, hours_worked, hourly_rate, bonus):\n",
        "        super().__init__(name, hours_worked, hourly_rate)\n",
        "        self.bonus = bonus\n",
        "\n",
        "    def calculate_salary(self):\n",
        "        base_salary = super().calculate_salary()\n",
        "        return base_salary + self.bonus\n",
        "\n",
        "# Example usage\n",
        "emp = Employee(\"John\", 40, 20)\n",
        "mgr = Manager(\"Alice\", 40, 30, 500)\n",
        "\n",
        "print(f\"{emp.name}'s Salary: ${emp.calculate_salary()}\")\n",
        "print(f\"{mgr.name}'s Salary: ${mgr.calculate_salary()}\")"
      ],
      "metadata": {
        "colab": {
          "base_uri": "https://localhost:8080/"
        },
        "id": "lcLwUOOew8AF",
        "outputId": "5100a90f-71b5-42fd-890b-12201d9c253a"
      },
      "execution_count": 22,
      "outputs": [
        {
          "output_type": "stream",
          "name": "stdout",
          "text": [
            "John's Salary: $800\n",
            "Alice's Salary: $1700\n"
          ]
        }
      ]
    },
    {
      "cell_type": "code",
      "source": [
        "# 15.Create a class Product with attributes name, price, and quantity. Implement a method total_price() that calculates the total price of the product."
      ],
      "metadata": {
        "id": "ZckzYTq4xN9b"
      },
      "execution_count": null,
      "outputs": []
    },
    {
      "cell_type": "code",
      "source": [
        "class Product:\n",
        "    def __init__(self, name, price, quantity):\n",
        "        self.name = name\n",
        "        self.price = price\n",
        "        self.quantity = quantity\n",
        "\n",
        "    def total_price(self):\n",
        "        return self.price * self.quantity\n",
        "\n",
        "# Example usage\n",
        "product = Product(\"Laptop\", 1200, 3)\n",
        "print(f\"Total price of {product.name}: ${product.total_price()}\")"
      ],
      "metadata": {
        "colab": {
          "base_uri": "https://localhost:8080/"
        },
        "id": "QP61mcoJxo-q",
        "outputId": "057d7144-3a2f-4df9-864d-918861e4437d"
      },
      "execution_count": 23,
      "outputs": [
        {
          "output_type": "stream",
          "name": "stdout",
          "text": [
            "Total price of Laptop: $3600\n"
          ]
        }
      ]
    },
    {
      "cell_type": "code",
      "source": [
        "# 16.Create a class Animal with an abstract method sound(). Create two derived classes Cow and Sheep that implement the sound() method."
      ],
      "metadata": {
        "id": "x38dyn83xpJr"
      },
      "execution_count": null,
      "outputs": []
    },
    {
      "cell_type": "code",
      "source": [
        "from abc import ABC, abstractmethod\n",
        "\n",
        "class Animal(ABC):\n",
        "    @abstractmethod\n",
        "    def sound(self):\n",
        "        pass\n",
        "\n",
        "class Cow(Animal):\n",
        "    def sound(self):\n",
        "        print(\"Moo\")\n",
        "\n",
        "class Sheep(Animal):\n",
        "    def sound(self):\n",
        "        print(\"Baa\")\n",
        "\n",
        "# Example usage\n",
        "cow = Cow()\n",
        "sheep = Sheep()\n",
        "\n",
        "cow.sound()\n",
        "sheep.sound()"
      ],
      "metadata": {
        "colab": {
          "base_uri": "https://localhost:8080/"
        },
        "id": "8DtL-UcKxrMT",
        "outputId": "d43a1552-9226-4926-813a-f9939f12a1f2"
      },
      "execution_count": 24,
      "outputs": [
        {
          "output_type": "stream",
          "name": "stdout",
          "text": [
            "Moo\n",
            "Baa\n"
          ]
        }
      ]
    },
    {
      "cell_type": "code",
      "source": [
        "# 17.Create a class Book with attributes title, author, and year_published. Add a method get_book_info() that returns a formatted string with the book's details."
      ],
      "metadata": {
        "id": "1dhqLEe2xrZw"
      },
      "execution_count": null,
      "outputs": []
    },
    {
      "cell_type": "code",
      "source": [
        "class Book:\n",
        "    def __init__(self, title, author, year_published):\n",
        "        self.title = title\n",
        "        self.author = author\n",
        "        self.year_published = year_published\n",
        "\n",
        "    def get_book_info(self):\n",
        "        return f\"'{self.title}' by {self.author}, published in {self.year_published}\"\n",
        "\n",
        "# Example usage\n",
        "book = Book(\"1984\", \"George Orwell\", 1949)\n",
        "print(book.get_book_info())"
      ],
      "metadata": {
        "colab": {
          "base_uri": "https://localhost:8080/"
        },
        "id": "6oZZIwqLxtCd",
        "outputId": "fddb9d71-a9ec-460e-d569-d45af9965535"
      },
      "execution_count": 25,
      "outputs": [
        {
          "output_type": "stream",
          "name": "stdout",
          "text": [
            "'1984' by George Orwell, published in 1949\n"
          ]
        }
      ]
    },
    {
      "cell_type": "code",
      "source": [
        "# 18.Create a class House with attributes address and price. Create a derived class Mansion that adds an attribute number_of_rooms."
      ],
      "metadata": {
        "id": "P2y-4duOxtes"
      },
      "execution_count": null,
      "outputs": []
    },
    {
      "cell_type": "code",
      "source": [
        "class House:\n",
        "    def __init__(self, address, price):\n",
        "        self.address = address\n",
        "        self.price = price\n",
        "\n",
        "class Mansion(House):\n",
        "    def __init__(self, address, price, number_of_rooms):\n",
        "        super().__init__(address, price)\n",
        "        self.number_of_rooms = number_of_rooms\n",
        "\n",
        "# Example usage\n",
        "mansion = Mansion(\"123 Luxury Lane\", 2000000, 10)\n",
        "print(f\"Address: {mansion.address}\")\n",
        "print(f\"Price: ${mansion.price}\")\n",
        "print(f\"Rooms: {mansion.number_of_rooms}\")"
      ],
      "metadata": {
        "colab": {
          "base_uri": "https://localhost:8080/"
        },
        "id": "mSY2jUSXygRN",
        "outputId": "6bd46024-b199-41b5-acb2-a14bcb8ff24c"
      },
      "execution_count": 26,
      "outputs": [
        {
          "output_type": "stream",
          "name": "stdout",
          "text": [
            "Address: 123 Luxury Lane\n",
            "Price: $2000000\n",
            "Rooms: 10\n"
          ]
        }
      ]
    }
  ]
}